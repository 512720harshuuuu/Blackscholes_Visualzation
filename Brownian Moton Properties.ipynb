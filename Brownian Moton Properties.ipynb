{
 "cells": [
  {
   "cell_type": "markdown",
   "id": "e2d44fb8",
   "metadata": {},
   "source": [
    "# Question 1.1 -1"
   ]
  },
  {
   "cell_type": "code",
   "execution_count": 441,
   "id": "f36ca856",
   "metadata": {},
   "outputs": [
    {
     "data": {
      "image/png": "[encoded data removed]",
      "text/plain": [
       "<Figure size 432x288 with 1 Axes>"
      ]
     },
     "metadata": {
      "needs_background": "light"
     },
     "output_type": "display_data"
    },
    {
     "name": "stdout",
     "output_type": "stream",
     "text": [
      "W1 = 0.20299711602214504\n"
     ]
    }
   ],
   "source": [
    "import numpy as np\n",
    "import matplotlib.pyplot as plt\n",
    "\n",
    "# Set the number of time steps\n",
    "N = 100\n",
    "\n",
    "# Generate N+1 standard normal random variables\n",
    "X = np.random.normal(size=N+1) # Consider this to be a random experiment whose distribution is of the a normal distribution with size 100\n",
    "\n",
    "# Calculate the rescaled random walk\n",
    "M = np.cumsum(X) # Producing a martingale, which basically is the cummilative sum of a the random experiment\n",
    "\n",
    "W =M/np.sqrt(N) # Let N be the time steps, M be the martingale, then W is the random walk (scaled symmetric random walk)\n",
    "# Plot the Brownian motion path\n",
    "t1 = np.linspace(0, 1, N+1)\n",
    "plt.plot(t1, W)\n",
    "plt.xlabel('Time')\n",
    "plt.ylabel('Value')\n",
    "plt.title('Brownian Motion')\n",
    "plt.show()\n",
    "\n",
    "# Print the value of W1\n",
    "print('W1 =', W[1])\n"
   ]
  },
  {
   "cell_type": "markdown",
   "id": "c144c610",
   "metadata": {},
   "source": [
    "# Question 1.1 - 2\n",
    "\n",
    "Generate M path of a Brownian motion and prove numerically that E[Wt] =\n",
    "0 and Var(Wt) = t for different values of t."
   ]
  },
  {
   "cell_type": "code",
   "execution_count": 442,
   "id": "0aaabfb2",
   "metadata": {},
   "outputs": [],
   "source": [
    "import numpy as np\n",
    "import matplotlib.pyplot as plt\n",
    "from numpy.random import RandomState\n",
    "from numpy.random import seed\n",
    "from numpy.random import normal\n",
    "W1 = []\n",
    "W2 = []\n",
    "W3 = []\n",
    "t = np.linspace(0, 1, 1001)\n",
    "for i in range(1000):\n",
    "    RandomState(i)\n",
    "    # Set the number of time steps\n",
    "    N = 100\n",
    "\n",
    "    # Generate N+1 standard normal random variables\n",
    "    X = normal(size=N+1)\n",
    "    # Consider this to be a random experiment whose distribution is of the a normal distribution with size 100\n",
    "\n",
    "    # Calculate the rescaled random walk\n",
    "    M = np.cumsum(X)\n",
    "    # Producing a martingale, which basically is the cummilative sum of a the random experiment\n",
    "\n",
    "    W =M/np.sqrt(N) \n",
    "    # Let N be the time steps, M be the martingale, then W is the random walk (scaled symmetric random walk)\n",
    "    \n",
    "    W1.append(W[10])\n",
    "    W2.append(W[20])\n",
    "    W3.append(W[30])"
   ]
  },
  {
   "cell_type": "code",
   "execution_count": 443,
   "id": "31c207e4",
   "metadata": {},
   "outputs": [
    {
     "data": {
      "text/plain": [
       "(101,)"
      ]
     },
     "execution_count": 443,
     "metadata": {},
     "output_type": "execute_result"
    }
   ],
   "source": [
    "W.shape"
   ]
  },
  {
   "cell_type": "code",
   "execution_count": 444,
   "id": "948e95c6",
   "metadata": {},
   "outputs": [
    {
     "data": {
      "text/plain": [
       "0.0023607660685787905"
      ]
     },
     "execution_count": 444,
     "metadata": {},
     "output_type": "execute_result"
    }
   ],
   "source": [
    "np.mean(W1)"
   ]
  },
  {
   "cell_type": "code",
   "execution_count": 445,
   "id": "06956073",
   "metadata": {},
   "outputs": [
    {
     "data": {
      "text/plain": [
       "-0.0164290548389177"
      ]
     },
     "execution_count": 445,
     "metadata": {},
     "output_type": "execute_result"
    }
   ],
   "source": [
    "np.mean(W2)"
   ]
  },
  {
   "cell_type": "code",
   "execution_count": 446,
   "id": "e6e1213c",
   "metadata": {},
   "outputs": [
    {
     "data": {
      "text/plain": [
       "-0.016943502594290817"
      ]
     },
     "execution_count": 446,
     "metadata": {},
     "output_type": "execute_result"
    }
   ],
   "source": [
    "np.mean(W3)"
   ]
  },
  {
   "cell_type": "code",
   "execution_count": 447,
   "id": "ac74cc39",
   "metadata": {},
   "outputs": [
    {
     "data": {
      "text/plain": [
       "0.09957571744012406"
      ]
     },
     "execution_count": 447,
     "metadata": {},
     "output_type": "execute_result"
    }
   ],
   "source": [
    "np.var(W1)"
   ]
  },
  {
   "cell_type": "code",
   "execution_count": 448,
   "id": "9cee2037",
   "metadata": {},
   "outputs": [
    {
     "data": {
      "text/plain": [
       "0.19133035037787885"
      ]
     },
     "execution_count": 448,
     "metadata": {},
     "output_type": "execute_result"
    }
   ],
   "source": [
    "np.var(W2)"
   ]
  },
  {
   "cell_type": "code",
   "execution_count": 449,
   "id": "931db0c5",
   "metadata": {},
   "outputs": [
    {
     "data": {
      "text/plain": [
       "0.2975217629186767"
      ]
     },
     "execution_count": 449,
     "metadata": {},
     "output_type": "execute_result"
    }
   ],
   "source": [
    "np.var(W3)"
   ]
  },
  {
   "cell_type": "markdown",
   "id": "d35b5cc5",
   "metadata": {},
   "source": [
    "# Question 1.1 - 3"
   ]
  },
  {
   "cell_type": "code",
   "execution_count": 450,
   "id": "fefb6ef3",
   "metadata": {},
   "outputs": [],
   "source": [
    "def cov(x,y):\n",
    "    mean_x = sum(x) / len(x)\n",
    "    mean_y = sum(y) / len(y)\n",
    "\n",
    "    return sum((a - mean_x) * (b - mean_y) for (a,b) in zip(x,y)) / len(x)"
   ]
  },
  {
   "cell_type": "code",
   "execution_count": 451,
   "id": "1f2a83a1",
   "metadata": {},
   "outputs": [
    {
     "data": {
      "text/plain": [
       "0.09812428007467985"
      ]
     },
     "execution_count": 451,
     "metadata": {},
     "output_type": "execute_result"
    }
   ],
   "source": [
    "cov(W1,W3)"
   ]
  },
  {
   "cell_type": "code",
   "execution_count": 452,
   "id": "55479b96",
   "metadata": {},
   "outputs": [
    {
     "data": {
      "text/plain": [
       "0.19508357581514416"
      ]
     },
     "execution_count": 452,
     "metadata": {},
     "output_type": "execute_result"
    }
   ],
   "source": [
    "cov(W2,W3)"
   ]
  },
  {
   "cell_type": "code",
   "execution_count": 453,
   "id": "b8c2184c",
   "metadata": {},
   "outputs": [
    {
     "data": {
      "text/plain": [
       "0.09909686096513243"
      ]
     },
     "execution_count": 453,
     "metadata": {},
     "output_type": "execute_result"
    }
   ],
   "source": [
    "cov(W1,W2)"
   ]
  },
  {
   "cell_type": "markdown",
   "id": "151bec9e",
   "metadata": {},
   "source": [
    "# Question 1.1 - 4"
   ]
  },
  {
   "cell_type": "code",
   "execution_count": 454,
   "id": "88a4ae76",
   "metadata": {},
   "outputs": [],
   "source": [
    "def quadraticSELF(m):\n",
    "\n",
    "    return [np.square(m[i] - m[i-1]) for i in range(len(m))]"
   ]
  },
  {
   "cell_type": "code",
   "execution_count": 455,
   "id": "478bddf0",
   "metadata": {},
   "outputs": [],
   "source": [
    "Quad = quadraticSELF(W)"
   ]
  },
  {
   "cell_type": "code",
   "execution_count": 456,
   "id": "abc04adc",
   "metadata": {},
   "outputs": [
    {
     "data": {
      "text/plain": [
       "0.027194449186893913"
      ]
     },
     "execution_count": 456,
     "metadata": {},
     "output_type": "execute_result"
    }
   ],
   "source": [
    "Quad[40]"
   ]
  },
  {
   "cell_type": "markdown",
   "id": "a7c7507e",
   "metadata": {},
   "source": [
    "# Question 1.2.1 - 1\n"
   ]
  },
  {
   "cell_type": "code",
   "execution_count": 458,
   "id": "629914bf",
   "metadata": {},
   "outputs": [],
   "source": [
    "S0 = 1\n",
    "Stemp = 0\n",
    "S = [1]\n",
    "r = 0.1\n",
    "sigma = 0.5\n",
    "for i in range(len(W)-1):\n",
    "    S.append((S[i])+(S[i]*r*(t[i+1]-t[i]))+(S[i]*sigma*(W[i+1]-W[i])))\n",
    "    "
   ]
  },
  {
   "cell_type": "code",
   "execution_count": 459,
   "id": "d792411f",
   "metadata": {},
   "outputs": [
    {
     "data": {
      "text/plain": [
       "[<matplotlib.lines.Line2D at 0x195c8e58280>]"
      ]
     },
     "execution_count": 459,
     "metadata": {},
     "output_type": "execute_result"
    },
    {
     "data": {
      "image/png": "[encoded data removed]",
      "text/plain": [
       "<Figure size 432x288 with 1 Axes>"
      ]
     },
     "metadata": {
      "needs_background": "light"
     },
     "output_type": "display_data"
    }
   ],
   "source": [
    "plt.plot(S)"
   ]
  },
  {
   "cell_type": "code",
   "execution_count": 460,
   "id": "d0df7b0d",
   "metadata": {},
   "outputs": [
    {
     "data": {
      "text/plain": [
       "[1,\n",
       " 0.9649957386079194,\n",
       " 1.010988121850021,\n",
       " 0.9646090454262282,\n",
       " 0.9094965486514796,\n",
       " 0.9518274752144613,\n",
       " 1.01425307323765,\n",
       " 0.9786515602249529,\n",
       " 1.0496243550442004,\n",
       " 1.0354557531542972,\n",
       " 1.0295991217978209,\n",
       " 1.0156784017170457,\n",
       " 0.9870853463020621,\n",
       " 1.0320273906739588,\n",
       " 1.1174903520629969,\n",
       " 1.0803337199498926,\n",
       " 1.066404356098456,\n",
       " 1.0314787417430213,\n",
       " 1.0102864473550057,\n",
       " 0.8523274091833486,\n",
       " 0.8444235468165276,\n",
       " 0.8481240768163218,\n",
       " 0.8587899916159637,\n",
       " 0.8706221121251247,\n",
       " 0.8279530921240323,\n",
       " 0.7889589045600612,\n",
       " 0.84047507469627,\n",
       " 0.839555233470958,\n",
       " 0.8170293431494269,\n",
       " 0.8658604258539745,\n",
       " 0.8407251030595357,\n",
       " 0.8743908456721076,\n",
       " 0.8857030746281579,\n",
       " 0.8075982923563326,\n",
       " 0.7930627718634934,\n",
       " 0.7833101734356777,\n",
       " 0.8332188390671651,\n",
       " 0.7867386337081215,\n",
       " 0.7424957666143339,\n",
       " 0.7842198297163029,\n",
       " 0.8489600766227486,\n",
       " 0.7728383723990594,\n",
       " 0.7446761541574997,\n",
       " 0.7502124513387285,\n",
       " 0.7105402544312936,\n",
       " 0.6910925135325465,\n",
       " 0.7016275624906954,\n",
       " 0.7040200344852477,\n",
       " 0.7022159281729032,\n",
       " 0.6849587347904562,\n",
       " 0.6327588784170559,\n",
       " 0.6515191886787162,\n",
       " 0.6304797104486891,\n",
       " 0.6386759348829639,\n",
       " 0.6326682896014124,\n",
       " 0.6478147066136724,\n",
       " 0.6728943726499489,\n",
       " 0.6633317836934937,\n",
       " 0.6815375323696213,\n",
       " 0.6180094950086554,\n",
       " 0.6173889425681102,\n",
       " 0.620839559084032,\n",
       " 0.596037988764582,\n",
       " 0.617677360469586,\n",
       " 0.6189938659460472,\n",
       " 0.6058073787713382,\n",
       " 0.5415355374670581,\n",
       " 0.6013222987259537,\n",
       " 0.6374715884031908,\n",
       " 0.6550269282814407,\n",
       " 0.622455479018747,\n",
       " 0.669497897247584,\n",
       " 0.6767137096664753,\n",
       " 0.7196704077166718,\n",
       " 0.7473994681397464,\n",
       " 0.7609122633882724,\n",
       " 0.734743562284667,\n",
       " 0.7825444149972725,\n",
       " 0.7281303966680069,\n",
       " 0.7190306291375921,\n",
       " 0.7545390958652206,\n",
       " 0.7399469891503502,\n",
       " 0.7043948793485214,\n",
       " 0.7308174408277219,\n",
       " 0.6871977859785475,\n",
       " 0.6673771827510637,\n",
       " 0.6985445143306712,\n",
       " 0.6975814701628889,\n",
       " 0.6997919302652472,\n",
       " 0.6795884380317767,\n",
       " 0.6900632865456074,\n",
       " 0.701415787944132,\n",
       " 0.7017344522614597,\n",
       " 0.6636752414265247,\n",
       " 0.726415925286027,\n",
       " 0.7161235704318041,\n",
       " 0.773906529884542,\n",
       " 0.740749560825192,\n",
       " 0.7807572257781169,\n",
       " 0.7485059592790884,\n",
       " 0.7389668242069994]"
      ]
     },
     "execution_count": 460,
     "metadata": {},
     "output_type": "execute_result"
    }
   ],
   "source": [
    "S"
   ]
  },
  {
   "cell_type": "code",
   "execution_count": 461,
   "id": "278a9455",
   "metadata": {},
   "outputs": [],
   "source": [
    "Sf = []\n",
    "import math\n",
    "for i in range(len(W)):\n",
    "    Sf.append(S0*math.exp(r*W[i]+(r-(np.square(sigma)/2))*t[i]))"
   ]
  },
  {
   "cell_type": "code",
   "execution_count": 462,
   "id": "1b4a596c",
   "metadata": {},
   "outputs": [
    {
     "data": {
      "text/plain": [
       "[1.0047656235573386,\n",
       " 0.9977110752366646,\n",
       " 1.0072215443828636,\n",
       " 0.9979776423431952,\n",
       " 0.986594352957075,\n",
       " 0.9957762814472293,\n",
       " 1.0088785171774728,\n",
       " 1.0017756669552402,\n",
       " 1.0163657691234187,\n",
       " 1.013579927023979,\n",
       " 1.012388436849561,\n",
       " 1.0096090969498848,\n",
       " 1.0038954544428849,\n",
       " 1.0130330966468128,\n",
       " 1.0299044659957666,\n",
       " 1.0230322716237878,\n",
       " 1.0203516446440546,\n",
       " 1.0136444007344638,\n",
       " 1.0094423450571341,\n",
       " 0.9783213304882742,\n",
       " 0.9764646225295418,\n",
       " 0.9772768543631547,\n",
       " 0.9796938861005344,\n",
       " 0.9823529807939438,\n",
       " 0.9727272591217735,\n",
       " 0.9635643892876645,\n",
       " 0.9761864398525345,\n",
       " 0.9759288718827089,\n",
       " 0.9706622379427473,\n",
       " 0.9822902963993092,\n",
       " 0.9765598336446368,\n",
       " 0.9843679516191893,\n",
       " 0.9868738457275001,\n",
       " 0.9695775182334746,\n",
       " 0.966050140032416,\n",
       " 0.9636337168301182,\n",
       " 0.975947969841666,\n",
       " 0.9650766162377169,\n",
       " 0.9542401178452311,\n",
       " 0.9649817648070452,\n",
       " 0.9810024373968724,\n",
       " 0.9635236322792871,\n",
       " 0.9564839589844806,\n",
       " 0.9578641085793138,\n",
       " 0.9477442261747735,\n",
       " 0.9425279656936698,\n",
       " 0.9453633970736456,\n",
       " 0.945965764367015,\n",
       " 0.9454385206670344,\n",
       " 0.940760692562934,\n",
       " 0.9264888797718661,\n",
       " 0.9319570502307306,\n",
       " 0.9259156498986986,\n",
       " 0.9282843856848013,\n",
       " 0.9264979700068711,\n",
       " 0.9309028871589905,\n",
       " 0.9380964916662693,\n",
       " 0.9353919014705552,\n",
       " 0.9404982337115307,\n",
       " 0.9230858167838991,\n",
       " 0.9228589289962674,\n",
       " 0.9238495121976175,\n",
       " 0.9164564104748156,\n",
       " 0.9230935434990899,\n",
       " 0.9234455641080731,\n",
       " 0.9194781060438033,\n",
       " 0.9001331166360121,\n",
       " 0.92018811038319,\n",
       " 0.9312766464548032,\n",
       " 0.9363779484017374,\n",
       " 0.9270700362044819,\n",
       " 0.941146887982943,\n",
       " 0.943135360192375,\n",
       " 0.955142451087244,\n",
       " 0.9624879409078755,\n",
       " 0.9659310811287447,\n",
       " 0.9592668003933283,\n",
       " 0.9717861961819811,\n",
       " 0.9583220307930781,\n",
       " 0.9558866911288985,\n",
       " 0.9653310916451326,\n",
       " 0.9615613049812984,\n",
       " 0.952322707695743,\n",
       " 0.9594509151933094,\n",
       " 0.9480231617722299,\n",
       " 0.9425277904595136,\n",
       " 0.951329661479183,\n",
       " 0.9510245915931206,\n",
       " 0.9515846718567,\n",
       " 0.9460633451601675,\n",
       " 0.9489415745499888,\n",
       " 0.9520261565369407,\n",
       " 0.9520698204776936,\n",
       " 0.9417559736897856,\n",
       " 0.9596880016923542,\n",
       " 0.9569292859890265,\n",
       " 0.9724534458302221,\n",
       " 0.9641129701449798,\n",
       " 0.9745398565604363,\n",
       " 0.9664783349518172,\n",
       " 0.9639746866652261]"
      ]
     },
     "execution_count": 462,
     "metadata": {},
     "output_type": "execute_result"
    }
   ],
   "source": [
    "Sf"
   ]
  },
  {
   "cell_type": "code",
   "execution_count": 463,
   "id": "dd874393",
   "metadata": {},
   "outputs": [
    {
     "data": {
      "text/plain": [
       "[<matplotlib.lines.Line2D at 0x195c8ea7b20>]"
      ]
     },
     "execution_count": 463,
     "metadata": {},
     "output_type": "execute_result"
    },
    {
     "data": {
      "image/png": "[encoded data removed]",
      "text/plain": [
       "<Figure size 432x288 with 1 Axes>"
      ]
     },
     "metadata": {
      "needs_background": "light"
     },
     "output_type": "display_data"
    }
   ],
   "source": [
    "plt.plot(Sf)"
   ]
  },
  {
   "cell_type": "code",
   "execution_count": 464,
   "id": "942cafe0",
   "metadata": {},
   "outputs": [
    {
     "data": {
      "text/plain": [
       "[<matplotlib.lines.Line2D at 0x195c8f05670>]"
      ]
     },
     "execution_count": 464,
     "metadata": {},
     "output_type": "execute_result"
    },
    {
     "data": {
      "image/png": "[encoded data removed]",
      "text/plain": [
       "<Figure size 432x288 with 1 Axes>"
      ]
     },
     "metadata": {
      "needs_background": "light"
     },
     "output_type": "display_data"
    }
   ],
   "source": [
    "plt.plot(S)"
   ]
  },
  {
   "cell_type": "markdown",
   "id": "246539be",
   "metadata": {},
   "source": [
    "# Question 1.2.1 - 2"
   ]
  },
  {
   "cell_type": "code",
   "execution_count": 465,
   "id": "dae18c10",
   "metadata": {},
   "outputs": [],
   "source": [
    "import numpy as np\n",
    "import matplotlib.pyplot as plt\n",
    "from numpy.random import RandomState\n",
    "from numpy.random import seed\n",
    "from numpy.random import normal\n",
    "S1 = []\n",
    "for i in range(1000):\n",
    "    RandomState(i)\n",
    "    # Set the number of time steps\n",
    "    N = 100\n",
    "\n",
    "    # Generate N+1 standard normal random variables\n",
    "    X = normal(size=N+1)\n",
    "    # Consider this to be a random experiment whose distribution is of the a normal distribution with size 100\n",
    "\n",
    "    # Calculate the rescaled random walk\n",
    "    M = np.cumsum(X)\n",
    "    # Producing a martingale, which basically is the cummilative sum of a the random experiment\n",
    "\n",
    "    W =M/np.sqrt(N) \n",
    "    # Let N be the time steps, M be the martingale, then W is the random walk (scaled symmetric random walk)\n",
    "    Sfnew = []\n",
    "    for i in range(len(W)):\n",
    "        Sfnew.append(S0*math.exp(r*W[i]+(r-(np.square(sigma)/2))*t[i]))\n",
    "\n",
    "    S1.append(Sfnew[1])\n",
    "    "
   ]
  },
  {
   "cell_type": "code",
   "execution_count": 466,
   "id": "573fc78e",
   "metadata": {},
   "outputs": [
    {
     "data": {
      "text/plain": [
       "1.0007617207832422"
      ]
     },
     "execution_count": 466,
     "metadata": {},
     "output_type": "execute_result"
    }
   ],
   "source": [
    "np.mean(S1)"
   ]
  },
  {
   "cell_type": "markdown",
   "id": "3666248d",
   "metadata": {},
   "source": [
    "# Question 1.22 - 1"
   ]
  },
  {
   "cell_type": "code",
   "execution_count": 467,
   "id": "fe2ff55b",
   "metadata": {},
   "outputs": [],
   "source": [
    "\n",
    "from scipy.stats import norm\n",
    "def CallBS(T,S_0,K,r,sigma):\n",
    "    a = (np.log(S_0/K))\n",
    "    b = (r+np.square(sigma)/2)*T\n",
    "    c = sigma*np.sqrt(T)\n",
    "    dplus =  (a + b)/c\n",
    "    dminus = dplus - sigma*(np.sqrt(T))\n",
    "    return (S_0*norm.cdf(dplus, loc=0, scale=1)- K*math.exp(-r*T)*norm.cdf(dminus, loc=0, scale=1))"
   ]
  },
  {
   "cell_type": "code",
   "execution_count": 468,
   "id": "6ad34060",
   "metadata": {
    "scrolled": true
   },
   "outputs": [
    {
     "data": {
      "text/plain": [
       "3.22170441650662"
      ]
     },
     "execution_count": 468,
     "metadata": {},
     "output_type": "execute_result"
    }
   ],
   "source": [
    "CallBS(1,40,45,0.02,0.3)"
   ]
  },
  {
   "cell_type": "markdown",
   "id": "9c35e469",
   "metadata": {},
   "source": [
    "# Question 1.22 - 2"
   ]
  },
  {
   "cell_type": "code",
   "execution_count": 469,
   "id": "d7277c1e",
   "metadata": {},
   "outputs": [],
   "source": [
    "Call = []\n",
    "for i in np.linspace(0.1,1,12):\n",
    "    Call.append(CallBS(1,40,45,0.02,i))"
   ]
  },
  {
   "cell_type": "code",
   "execution_count": 470,
   "id": "ba515ab8",
   "metadata": {},
   "outputs": [
    {
     "data": {
      "text/plain": [
       "[<matplotlib.lines.Line2D at 0x195c8f5aee0>]"
      ]
     },
     "execution_count": 470,
     "metadata": {},
     "output_type": "execute_result"
    },
    {
     "data": {
      "image/png": "[encoded data removed]",
      "text/plain": [
       "<Figure size 432x288 with 1 Axes>"
      ]
     },
     "metadata": {
      "needs_background": "light"
     },
     "output_type": "display_data"
    }
   ],
   "source": [
    "plt.plot(Call)"
   ]
  },
  {
   "cell_type": "markdown",
   "id": "b23c4d8d",
   "metadata": {},
   "source": [
    "# Question 1.1-3"
   ]
  },
  {
   "cell_type": "code",
   "execution_count": 473,
   "id": "b4d9598a",
   "metadata": {},
   "outputs": [],
   "source": [
    "Call = []\n",
    "for i in np.linspace(45,500,101):\n",
    "    Call.append(CallBS(1,40,i,0.02,0.3))"
   ]
  },
  {
   "cell_type": "code",
   "execution_count": 474,
   "id": "bf32d75c",
   "metadata": {},
   "outputs": [
    {
     "data": {
      "text/plain": [
       "[<matplotlib.lines.Line2D at 0x195c9012670>]"
      ]
     },
     "execution_count": 474,
     "metadata": {},
     "output_type": "execute_result"
    },
    {
     "data": {
      "image/png": "[encoded data removed]",
      "text/plain": [
       "<Figure size 432x288 with 1 Axes>"
      ]
     },
     "metadata": {
      "needs_background": "light"
     },
     "output_type": "display_data"
    }
   ],
   "source": [
    "plt.plot(Call)"
   ]
  },
  {
   "cell_type": "markdown",
   "id": "da3fb3f1",
   "metadata": {},
   "source": [
    "# Question 2"
   ]
  },
  {
   "cell_type": "code",
   "execution_count": null,
   "id": "c4dd4137",
   "metadata": {},
   "outputs": [],
   "source": [
    "\n",
    "    "
   ]
  }
 ],
 "metadata": {
  "kernelspec": {
   "display_name": "Python 3",
   "language": "python",
   "name": "python3"
  },
  "language_info": {
   "codemirror_mode": {
    "name": "ipython",
    "version": 3
   },
   "file_extension": ".py",
   "mimetype": "text/x-python",
   "name": "python",
   "nbconvert_exporter": "python",
   "pygments_lexer": "ipython3",
   "version": "3.8.8"
  }
 },
 "nbformat": 4,
 "nbformat_minor": 5
}
